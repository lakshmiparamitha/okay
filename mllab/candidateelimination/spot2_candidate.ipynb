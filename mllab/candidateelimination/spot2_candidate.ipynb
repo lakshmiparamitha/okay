{
 "cells": [
  {
   "cell_type": "code",
   "execution_count": 4,
   "metadata": {},
   "outputs": [
    {
     "name": "stdout",
     "output_type": "stream",
     "text": [
      "[['no' 'brown' 'marble' 'middle' 'hieroglyphics']\n",
      " ['no' 'white' 'sandstone' 'old' 'none']\n",
      " ['no' 'white' 'marble' 'new' 'hieroglyphics']\n",
      " ['yes' 'grey' 'slate' 'middle' 'hieroglyphics']\n",
      " ['no' 'brown' 'granite' 'middle' 'hieroglyphics']]\n",
      "['+' '-' '+' '+' '+']\n"
     ]
    }
   ],
   "source": [
    "import numpy as np\n",
    "import pandas as pd\n",
    "\n",
    "data = pd.DataFrame(data=pd.read_csv('spot2_data.csv'))\n",
    "\n",
    "concepts = np.array(data.iloc[:,0:-1])\n",
    "print(concepts)\n",
    "\n",
    "target = np.array(data.iloc[:,-1])\n",
    "print(target)"
   ]
  },
  {
   "cell_type": "code",
   "execution_count": 10,
   "metadata": {},
   "outputs": [],
   "source": [
    "def learn(concepts, target):\n",
    "    \n",
    "    specific_h = concepts[0].copy()\n",
    "    print(\"\\nInitialize specific_h and general_h\")\n",
    "\n",
    "    general_h = [[\"?\" for i in range(len(specific_h))] for i in range(len(specific_h))]\n",
    "\n",
    "    for i, h in enumerate(concepts):\n",
    "\n",
    "        if target[i] == \"+\":\n",
    "            for x in range(len(specific_h)):\n",
    "\n",
    "                if h[x] != specific_h[x]:\n",
    "                    general_h[x][x] = '?'\n",
    "                    specific_h[x] = '?'\n",
    "                    \n",
    "        if target[i] == \"-\":\n",
    "            for x in range(len(specific_h)):\n",
    "                if h[x] != specific_h[x]:\n",
    "                    general_h[x][x] = specific_h[x]\n",
    "                else:\n",
    "                    general_h[x][x] = '?'\n",
    "                    \n",
    "        print(specific_h)\n",
    "    \n",
    "        print(general_h)\n",
    "        \n",
    "    \n",
    "    indices = [i for i, val in enumerate(general_h) if val == ['?', '?', '?', '?', '?']]\n",
    "    \n",
    "    for i in indices:\n",
    "        general_h.remove(['?', '?', '?', '?', '?'])\n",
    "        \n",
    "    return specific_h, general_h"
   ]
  },
  {
   "cell_type": "code",
   "execution_count": 11,
   "metadata": {},
   "outputs": [
    {
     "name": "stdout",
     "output_type": "stream",
     "text": [
      "\n",
      "Initialize specific_h and general_h\n",
      "['no' 'brown' 'marble' 'middle' 'hieroglyphics']\n",
      "[['?', '?', '?', '?', '?'], ['?', '?', '?', '?', '?'], ['?', '?', '?', '?', '?'], ['?', '?', '?', '?', '?'], ['?', '?', '?', '?', '?']]\n",
      "['no' 'brown' 'marble' 'middle' 'hieroglyphics']\n",
      "[['?', '?', '?', '?', '?'], ['?', 'brown', '?', '?', '?'], ['?', '?', 'marble', '?', '?'], ['?', '?', '?', 'middle', '?'], ['?', '?', '?', '?', 'hieroglyphics']]\n",
      "['no' '?' 'marble' '?' 'hieroglyphics']\n",
      "[['?', '?', '?', '?', '?'], ['?', '?', '?', '?', '?'], ['?', '?', 'marble', '?', '?'], ['?', '?', '?', '?', '?'], ['?', '?', '?', '?', 'hieroglyphics']]\n",
      "['?' '?' '?' '?' 'hieroglyphics']\n",
      "[['?', '?', '?', '?', '?'], ['?', '?', '?', '?', '?'], ['?', '?', '?', '?', '?'], ['?', '?', '?', '?', '?'], ['?', '?', '?', '?', 'hieroglyphics']]\n",
      "['?' '?' '?' '?' 'hieroglyphics']\n",
      "[['?', '?', '?', '?', '?'], ['?', '?', '?', '?', '?'], ['?', '?', '?', '?', '?'], ['?', '?', '?', '?', '?'], ['?', '?', '?', '?', 'hieroglyphics']]\n",
      "\n",
      "Final Specific_h:\n",
      "['?' '?' '?' '?' 'hieroglyphics']\n",
      "\n",
      "Final General_h:\n",
      "[['?', '?', '?', '?', 'hieroglyphics']]\n"
     ]
    }
   ],
   "source": [
    "s_final, g_final = learn(concepts, target)\n",
    "print(\"\\nFinal Specific_h:\", s_final, sep=\"\\n\")\n",
    "print(\"\\nFinal General_h:\", g_final, sep=\"\\n\")"
   ]
  },
  {
   "cell_type": "code",
   "execution_count": null,
   "metadata": {},
   "outputs": [],
   "source": []
  }
 ],
 "metadata": {
  "kernelspec": {
   "display_name": "Python 3",
   "language": "python",
   "name": "python3"
  },
  "language_info": {
   "codemirror_mode": {
    "name": "ipython",
    "version": 3
   },
   "file_extension": ".py",
   "mimetype": "text/x-python",
   "name": "python",
   "nbconvert_exporter": "python",
   "pygments_lexer": "ipython3",
   "version": "3.7.6"
  }
 },
 "nbformat": 4,
 "nbformat_minor": 4
}
