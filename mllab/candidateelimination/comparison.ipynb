{
 "cells": [
  {
   "cell_type": "code",
   "execution_count": 1,
   "metadata": {},
   "outputs": [
    {
     "name": "stdout",
     "output_type": "stream",
     "text": [
      "  citations    size   inLib       price editions  buy\n",
      "0      some   small      no  affordable     many   No\n",
      "1      many     big      no   expensive      one  Yes\n",
      "2      some     big  always   expensive      few   No\n",
      "3      many  medium      no   expensive     many  Yes\n",
      "4      many   small      no  affordable     many  Yes\n",
      "[['some' 'small' 'no' 'affordable' 'many']\n",
      " ['many' 'big' 'no' 'expensive' 'one']\n",
      " ['some' 'big' 'always' 'expensive' 'few']\n",
      " ['many' 'medium' 'no' 'expensive' 'many']\n",
      " ['many' 'small' 'no' 'affordable' 'many']]\n",
      "['No' 'Yes' 'No' 'Yes' 'Yes']\n"
     ]
    }
   ],
   "source": [
    "import numpy as np\n",
    "import pandas as pd\n",
    "\n",
    "data = pd.DataFrame(data=pd.read_csv('data.csv'))\n",
    "print(data)\n",
    "\n",
    "concepts = np.array(data.iloc[:,0:-1])\n",
    "print(concepts)\n",
    "\n",
    "target = np.array(data.iloc[:,-1])\n",
    "print(target)"
   ]
  },
  {
   "cell_type": "code",
   "execution_count": 2,
   "metadata": {},
   "outputs": [
    {
     "name": "stdout",
     "output_type": "stream",
     "text": [
      "\n",
      "Initialization of specific_h and general_h\n",
      "['some' 'small' 'no' 'affordable' 'many']\n",
      "[['?', '?', '?', '?', '?'], ['?', '?', '?', '?', '?'], ['?', '?', '?', '?', '?'], ['?', '?', '?', '?', '?'], ['?', '?', '?', '?', '?']]\n",
      "\n",
      "Final Specific_h:\n",
      "['?' '?' 'no' '?' '?']\n",
      "\n",
      "Final General_h:\n",
      "[['?', '?', 'no', '?', '?']]\n"
     ]
    }
   ],
   "source": [
    "\n",
    "def learn(concepts, target):\n",
    "    \n",
    "    specific_h = concepts[0].copy()\n",
    "    print(\"\\nInitialization of specific_h and general_h\")\n",
    "    print(specific_h)\n",
    "\n",
    "    general_h = [[\"?\" for i in range(len(specific_h))] for i in range(len(specific_h))]\n",
    "    print(general_h)\n",
    "\n",
    "    for i, h in enumerate(concepts):\n",
    "\n",
    "        if target[i] == \"Yes\":\n",
    "            for x in range(len(specific_h)):\n",
    "\n",
    "                if h[x] != specific_h[x]:\n",
    "                    specific_h[x] = '?'\n",
    "                    general_h[x][x] = '?'\n",
    "\n",
    "        if target[i] == \"No\":\n",
    "            for x in range(len(specific_h)):\n",
    "                if h[x] != specific_h[x]:\n",
    "                    general_h[x][x] = specific_h[x]\n",
    "                else:\n",
    "                    general_h[x][x] = '?'\n",
    "\n",
    "        \n",
    "    \n",
    "    indices = [i for i, val in enumerate(general_h) if val == ['?', '?', '?', '?', '?']]\n",
    "    \n",
    "    for i in indices:\n",
    "        general_h.remove(['?', '?', '?', '?', '?'])\n",
    "        \n",
    "    return specific_h, general_h\n",
    "\n",
    "\n",
    "s_final, g_final = learn(concepts, target)\n",
    "print(\"\\nFinal Specific_h:\", s_final, sep=\"\\n\")\n",
    "print(\"\\nFinal General_h:\", g_final, sep=\"\\n\")"
   ]
  },
  {
   "cell_type": "code",
   "execution_count": 3,
   "metadata": {},
   "outputs": [
    {
     "name": "stdout",
     "output_type": "stream",
     "text": [
      "Final Specific_h:\n",
      "['many' '?' 'no' '?' '?']\n"
     ]
    }
   ],
   "source": [
    "def train(con, tar):\n",
    "    for i, val in enumerate(tar):\n",
    "        if val == 'Yes':\n",
    "            specific_h = con[i].copy()\n",
    "            break\n",
    "            \n",
    "    for i, val in enumerate(con):\n",
    "        if tar[i] == 'Yes':\n",
    "            for x in range(len(specific_h)):\n",
    "                if val[x] != specific_h[x]:\n",
    "                    specific_h[x] = '?'\n",
    "                else:\n",
    "                    pass\n",
    "    return specific_h\n",
    "\n",
    "print(\"Final Specific_h:\")\n",
    "print(train(concepts, target))\n"
   ]
  },
  {
   "cell_type": "code",
   "execution_count": null,
   "metadata": {},
   "outputs": [],
   "source": []
  }
 ],
 "metadata": {
  "kernelspec": {
   "display_name": "Python 3",
   "language": "python",
   "name": "python3"
  },
  "language_info": {
   "codemirror_mode": {
    "name": "ipython",
    "version": 3
   },
   "file_extension": ".py",
   "mimetype": "text/x-python",
   "name": "python",
   "nbconvert_exporter": "python",
   "pygments_lexer": "ipython3",
   "version": "3.7.6"
  }
 },
 "nbformat": 4,
 "nbformat_minor": 4
}
