{
 "cells": [
  {
   "cell_type": "code",
   "execution_count": 3,
   "metadata": {},
   "outputs": [],
   "source": [
    "import numpy as np"
   ]
  },
  {
   "cell_type": "code",
   "execution_count": 8,
   "metadata": {},
   "outputs": [
    {
     "name": "stdout",
     "output_type": "stream",
     "text": [
      "[1, 0.6224593312018546, 0.7310585786300049]\n",
      "-0.3914007525718496\n",
      "a1 =  [0.62245933] a2 =  [0.73105858] Output =  0.4033801435652353\n",
      "Class: 0\n",
      "[1, 0.8581489350995123, 0.9525741268224334]\n",
      "-0.40557480827707904\n",
      "a1 =  [0.85814894] a2 =  [0.95257413] Output =  0.39997367224830277\n",
      "Class: 0\n"
     ]
    }
   ],
   "source": [
    "def sigmoid(x):\n",
    "    return 1.0/(1.0 + np.exp(-x))\n",
    "\n",
    "def sigmoid_der(x):\n",
    "    return x*(1.0 - x)\n",
    "\n",
    "class NN:\n",
    "    def __init__(self, inputs):\n",
    "        self.inputs = inputs\n",
    "        self.l=len(self.inputs)\n",
    "        self.li=len(self.inputs[0])\n",
    "\n",
    "        self.wi=[0.5,0.7,0.6,1,1,1]\n",
    "        self.wh=[-0.5,-1,1]\n",
    "\n",
    "    def train(self, inputs, it):\n",
    "        for i in range(it):\n",
    "            l0=np.c_[np.ones((inputs.shape[0])), inputs]\n",
    "            l1=sigmoid(np.dot(l0, self.wi[0:3]))\n",
    "            l2=sigmoid(np.dot(l0, self.wi[3:6]))\n",
    "            \n",
    "            l3=[1,l1[0],l2[0]]\n",
    "            print(l3)\n",
    "            print(np.dot(l3, self.wh))\n",
    "         \n",
    "            l4 = sigmoid(np.dot(l3, self.wh))\n",
    "            print(\"a1 = \",l1,\"a2 = \",l2,\"Output = \",l4)\n",
    "            if(l4<=0.5):\n",
    "                print(\"Class: 0\")\n",
    "            else:\n",
    "                print(\"Class: 1\")\n",
    "\n",
    "                \n",
    "inputs=np.array([[0,0]])\n",
    "n=NN(inputs)\n",
    "n.train(inputs,1)\n",
    "\n",
    "inputs=np.array([[1,1]])\n",
    "n=NN(inputs)\n",
    "n.train(inputs,1)"
   ]
  },
  {
   "cell_type": "code",
   "execution_count": null,
   "metadata": {},
   "outputs": [],
   "source": []
  }
 ],
 "metadata": {
  "kernelspec": {
   "display_name": "Python 3",
   "language": "python",
   "name": "python3"
  },
  "language_info": {
   "codemirror_mode": {
    "name": "ipython",
    "version": 3
   },
   "file_extension": ".py",
   "mimetype": "text/x-python",
   "name": "python",
   "nbconvert_exporter": "python",
   "pygments_lexer": "ipython3",
   "version": "3.7.6"
  }
 },
 "nbformat": 4,
 "nbformat_minor": 4
}
