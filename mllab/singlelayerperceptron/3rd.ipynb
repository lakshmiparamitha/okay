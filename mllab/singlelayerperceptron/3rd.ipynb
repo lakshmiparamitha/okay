{
 "cells": [
  {
   "cell_type": "code",
   "execution_count": 7,
   "metadata": {},
   "outputs": [
    {
     "name": "stdout",
     "output_type": "stream",
     "text": [
      "Training Perceptron\n",
      "Testing Perceptron\n",
      "Input=[7. 7.], Target=-1, Predicted=-1\n",
      "Input=[2.8 0.8], Target=1, Predicted=-1\n",
      "Input=[1.2 3. ], Target=1, Predicted=-1\n",
      "Input=[7.8 6.1], Target=-1, Predicted=-1\n",
      "[-2.37 -2.3   1.  ]\n"
     ]
    }
   ],
   "source": [
    "import numpy as np\n",
    "class Perceptron:\n",
    "    def __init__(self, N, alpha=0.2):\n",
    "\n",
    "        self.W = [0.75, 0.5, -0.6]\n",
    "        self.alpha = alpha\n",
    "\n",
    "    def step(self, x):\n",
    "        return 1 if x > 0 else -1\n",
    "\n",
    "    def train(self, X, y, epochs=20):\n",
    "        X = np.c_[X, np.ones((X.shape[0]))]\n",
    "\n",
    "        for epoch in np.arange(0, epochs):\n",
    "            for (x, target) in zip(X, y):\n",
    "                p = self.step(np.dot(x, self.W))\n",
    "                if p != target:\n",
    "                    error = p - target\n",
    "                    self.W += -self.alpha * error * x\n",
    "\n",
    "    def predict(self, X, addBias=True):\n",
    "        X = np.atleast_2d(X)\n",
    "        if addBias:\n",
    "            X = np.c_[X, np.ones((X.shape[0]))]\n",
    "\n",
    "        return self.step(np.dot(X, self.W))\n",
    "\n",
    "\n",
    "\n",
    "X = np.array([[7.0, 7.0], [2.8, 0.8], [1.2, 3.0], [7.8, 6.1]])\n",
    "y = np.array([[-1], [1], [1], [-1]])\n",
    "\n",
    "print(\"Training Perceptron\")\n",
    "p = Perceptron(X.shape[1], alpha=0.2)\n",
    "p.train(X, y, epochs=4)\n",
    "\n",
    "print(\"Testing Perceptron\")\n",
    "\n",
    "for (x, target) in zip(X, y):\n",
    "\n",
    "    pred = p.predict(x)\n",
    "    print(\"Input={}, Target={}, Predicted={}\".format(x, target[0], pred))\n",
    "\n",
    "print(p.W)"
   ]
  },
  {
   "cell_type": "code",
   "execution_count": null,
   "metadata": {},
   "outputs": [],
   "source": []
  }
 ],
 "metadata": {
  "kernelspec": {
   "display_name": "Python 3",
   "language": "python",
   "name": "python3"
  },
  "language_info": {
   "codemirror_mode": {
    "name": "ipython",
    "version": 3
   },
   "file_extension": ".py",
   "mimetype": "text/x-python",
   "name": "python",
   "nbconvert_exporter": "python",
   "pygments_lexer": "ipython3",
   "version": "3.7.6"
  }
 },
 "nbformat": 4,
 "nbformat_minor": 2
}
