{
 "cells": [
  {
   "cell_type": "code",
   "execution_count": 1,
   "metadata": {},
   "outputs": [],
   "source": [
    "import numpy as np\n",
    "import pandas as pd"
   ]
  },
  {
   "cell_type": "code",
   "execution_count": 1,
   "metadata": {},
   "outputs": [],
   "source": [
    "class Perceptron:\n",
    "    def __init__(self, input_size, learning_rate=0.1, epochs=100):\n",
    "        self.weights = np.zeros(input_size)\n",
    "        self.bias = 0\n",
    "        self.learning_rate = learning_rate\n",
    "        self.epochs = epochs\n",
    "\n",
    "    def activation(self, x):\n",
    "        return 1 if x >= 0 else 0\n",
    "\n",
    "    def predict(self, x):\n",
    "        z = np.dot(self.weights, x) + self.bias\n",
    "        return self.activation(z)\n",
    "\n",
    "    def train(self, X, y):\n",
    "        for _ in range(self.epochs):\n",
    "            for i in range(y.shape[0]):\n",
    "                prediction = self.predict(X[i])\n",
    "                self.weights += self.learning_rate * (y[i] - prediction) * X[i]\n",
    "                self.bias += self.learning_rate * (y[i] - prediction)"
   ]
  },
  {
   "cell_type": "code",
   "execution_count": 3,
   "metadata": {},
   "outputs": [
    {
     "name": "stdout",
     "output_type": "stream",
     "text": [
      "AND Logic Function:\n",
      "[0 0] --> 0\n",
      "[0 1] --> 0\n",
      "[1 0] --> 0\n",
      "[1 1] --> 1\n"
     ]
    }
   ],
   "source": [
    "# AND Logic Function\n",
    "X_and = np.array([[0, 0], [0, 1], [1, 0], [1, 1]])\n",
    "y_and = np.array([0, 0, 0, 1])\n",
    "\n",
    "# Create and train the perceptron for AND\n",
    "perceptron_and = Perceptron(input_size=2)\n",
    "perceptron_and.train(X_and, y_and)\n",
    "\n",
    "# Test the perceptron for AND\n",
    "print(\"AND Logic Function:\")\n",
    "for i in range(len(X_and)):\n",
    "    print(X_and[i], \"-->\", perceptron_and.predict(X_and[i]))\n"
   ]
  },
  {
   "cell_type": "code",
   "execution_count": 4,
   "metadata": {},
   "outputs": [
    {
     "name": "stdout",
     "output_type": "stream",
     "text": [
      "\n",
      "OR Logic Function:\n",
      "[0 0] --> 0\n",
      "[0 1] --> 1\n",
      "[1 0] --> 1\n",
      "[1 1] --> 1\n"
     ]
    }
   ],
   "source": [
    "# OR Logic Function\n",
    "X_or = np.array([[0, 0], [0, 1], [1, 0], [1, 1]])\n",
    "y_or = np.array([0, 1, 1, 1])\n",
    "\n",
    "# Create and train the perceptron for OR\n",
    "perceptron_or = Perceptron(input_size=2)\n",
    "perceptron_or.train(X_or, y_or)\n",
    "\n",
    "# Test the perceptron for OR\n",
    "print(\"\\nOR Logic Function:\")\n",
    "for i in range(len(X_or)):\n",
    "    print(X_or[i], \"-->\", perceptron_or.predict(X_or[i]))"
   ]
  },
  {
   "cell_type": "code",
   "execution_count": 5,
   "metadata": {},
   "outputs": [
    {
     "name": "stdout",
     "output_type": "stream",
     "text": [
      "\n",
      "XOR Logic Function:\n",
      "[0 0] --> 1\n",
      "[0 1] --> 1\n",
      "[1 0] --> 0\n",
      "[1 1] --> 0\n"
     ]
    }
   ],
   "source": [
    "# XOR Logic Function\n",
    "X_xor = np.array([[0, 0], [0, 1], [1, 0], [1, 1]])\n",
    "y_xor = np.array([0, 1, 1, 0])\n",
    "\n",
    "# Create and train the perceptron for XOR\n",
    "perceptron_xor = Perceptron(input_size=2)\n",
    "perceptron_xor.train(X_xor, y_xor)\n",
    "\n",
    "# Test the perceptron for OR\n",
    "print(\"\\nXOR Logic Function:\")\n",
    "for i in range(len(X_xor)):\n",
    "    print(X_xor[i], \"-->\", perceptron_xor.predict(X_xor[i]))"
   ]
  },
  {
   "cell_type": "code",
   "execution_count": null,
   "metadata": {},
   "outputs": [],
   "source": []
  }
 ],
 "metadata": {
  "kernelspec": {
   "display_name": "Python 3",
   "language": "python",
   "name": "python3"
  },
  "language_info": {
   "codemirror_mode": {
    "name": "ipython",
    "version": 3
   },
   "file_extension": ".py",
   "mimetype": "text/x-python",
   "name": "python",
   "nbconvert_exporter": "python",
   "pygments_lexer": "ipython3",
   "version": "3.7.6"
  }
 },
 "nbformat": 4,
 "nbformat_minor": 4
}
