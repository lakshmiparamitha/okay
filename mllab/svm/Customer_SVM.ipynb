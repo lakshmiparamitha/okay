{
 "cells": [
  {
   "cell_type": "code",
   "execution_count": 3,
   "metadata": {},
   "outputs": [],
   "source": [
    "import pandas as pd\n",
    "import numpy as np\n",
    "from sklearn.model_selection import train_test_split\n",
    "from sklearn.svm import SVC\n",
    "from sklearn.preprocessing import LabelEncoder, StandardScaler\n",
    "from sklearn.metrics import accuracy_score\n",
    "import matplotlib.pyplot as plt\n"
   ]
  },
  {
   "cell_type": "code",
   "execution_count": 11,
   "metadata": {},
   "outputs": [
    {
     "name": "stdout",
     "output_type": "stream",
     "text": [
      "Loan_ID               0\n",
      "Gender               13\n",
      "Married               3\n",
      "Dependents           15\n",
      "Education             0\n",
      "Self_Employed        32\n",
      "ApplicantIncome       0\n",
      "CoapplicantIncome     0\n",
      "LoanAmount           22\n",
      "Loan_Amount_Term     14\n",
      "Credit_History       50\n",
      "Property_Area         0\n",
      "Loan_Status           0\n",
      "dtype: int64\n"
     ]
    }
   ],
   "source": [
    "# Load the dataset\n",
    "data = pd.read_csv(\"train.csv\")\n",
    "\n",
    "# Check for missing values\n",
    "print(data.isnull().sum())\n",
    "\n",
    "# Drop rows with missing values\n",
    "data = data.dropna()\n",
    "\n",
    "# Preprocess 'Dependents' column\n",
    "data['Dependents'] = data['Dependents'].str.rstrip('+')  # Remove '+' from 'Dependents' values\n",
    "data['Dependents'] = data['Dependents'].astype(int)      # Convert to integer\n",
    "\n",
    "# Encode categorical variables\n",
    "label_encoder = LabelEncoder()\n",
    "data['Gender'] = label_encoder.fit_transform(data['Gender'])\n",
    "data['Married'] = label_encoder.fit_transform(data['Married'])\n",
    "data['Education'] = label_encoder.fit_transform(data['Education'])\n",
    "data['Self_Employed'] = label_encoder.fit_transform(data['Self_Employed'])\n",
    "data['Property_Area'] = label_encoder.fit_transform(data['Property_Area'])\n",
    "data['Loan_Status'] = label_encoder.fit_transform(data['Loan_Status'])\n",
    "\n",
    "# Split features and target variable\n",
    "X = data.drop(['Loan_ID', 'Loan_Status'], axis=1)\n",
    "y = data['Loan_Status']\n",
    "\n",
    "# Scale numerical features\n",
    "scaler = StandardScaler()\n",
    "X_scaled = scaler.fit_transform(X)\n",
    "\n",
    "# Split the dataset into training and testing sets\n",
    "X_train, X_test, y_train, y_test = train_test_split(X_scaled, y, test_size=0.2, random_state=42)\n",
    "\n",
    "# Train SVM models with different kernels\n",
    "from sklearn.svm import SVC\n",
    "from sklearn.preprocessing import PolynomialFeatures\n",
    "from sklearn.pipeline import make_pipeline\n",
    "\n",
    "kernels = ['linear', 'rbf', 'poly']\n",
    "models = {}\n",
    "for kernel in kernels:\n",
    "    if kernel == 'poly':\n",
    "        svm_model = make_pipeline(PolynomialFeatures(3), SVC(kernel=kernel))\n",
    "    else:\n",
    "        svm_model = SVC(kernel=kernel)\n",
    "    svm_model.fit(X_train, y_train)\n",
    "    models[kernel] = svm_model\n",
    "\n"
   ]
  },
  {
   "cell_type": "code",
   "execution_count": 12,
   "metadata": {},
   "outputs": [
    {
     "name": "stdout",
     "output_type": "stream",
     "text": [
      "Accuracy of SVM model with linear kernel: 0.8229166666666666\n",
      "Accuracy of SVM model with rbf kernel: 0.8229166666666666\n",
      "Accuracy of SVM model with poly kernel: 0.7083333333333334\n"
     ]
    }
   ],
   "source": [
    "# Evaluate SVM models\n",
    "for kernel, model in models.items():\n",
    "    y_pred = model.predict(X_test)\n",
    "    accuracy = accuracy_score(y_test, y_pred)\n",
    "    print(f\"Accuracy of SVM model with {kernel} kernel: {accuracy}\")\n"
   ]
  },
  {
   "cell_type": "code",
   "execution_count": null,
   "metadata": {},
   "outputs": [],
   "source": []
  }
 ],
 "metadata": {
  "kernelspec": {
   "display_name": "Python 3",
   "language": "python",
   "name": "python3"
  },
  "language_info": {
   "codemirror_mode": {
    "name": "ipython",
    "version": 3
   },
   "file_extension": ".py",
   "mimetype": "text/x-python",
   "name": "python",
   "nbconvert_exporter": "python",
   "pygments_lexer": "ipython3",
   "version": "3.7.6"
  }
 },
 "nbformat": 4,
 "nbformat_minor": 4
}
