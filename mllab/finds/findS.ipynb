{
 "cells": [
  {
   "cell_type": "code",
   "execution_count": 5,
   "metadata": {},
   "outputs": [
    {
     "name": "stdout",
     "output_type": "stream",
     "text": [
      "['small' 'red' 'circle']\n",
      "['small' 'red' 'circle']\n",
      "['small' 'red' 'circle']\n",
      "['small' 'red' 'circle']\n",
      "['small' '?' 'circle']\n",
      "Final Specific_h:\n",
      "['small' '?' 'circle']\n"
     ]
    }
   ],
   "source": [
    "import pandas as pd\n",
    "import numpy as np\n",
    "\n",
    "data = pd.read_csv('finds_data.csv')\n",
    "\n",
    "concepts = np.array(data)[:,:-1]\n",
    "\n",
    "target = np.array(data)[:,-1]\n",
    "\n",
    "def train(con, tar):\n",
    "    for i, val in enumerate(tar):\n",
    "        if val == 'Yes':\n",
    "            specific_h = con[i].copy()\n",
    "            break\n",
    "            \n",
    "    for i, val in enumerate(con):\n",
    "        if tar[i] == 'Yes':\n",
    "            for x in range(len(specific_h)):\n",
    "                if val[x] != specific_h[x]:\n",
    "                    specific_h[x] = '?'\n",
    "                else:\n",
    "                    pass\n",
    "        print(specific_h)\n",
    "    \n",
    "    print(\"Final Specific_h:\")\n",
    "\n",
    "    return specific_h\n",
    "\n",
    "print(train(concepts, target))\n"
   ]
  },
  {
   "cell_type": "code",
   "execution_count": null,
   "metadata": {},
   "outputs": [],
   "source": []
  }
 ],
 "metadata": {
  "kernelspec": {
   "display_name": "Python 3",
   "language": "python",
   "name": "python3"
  },
  "language_info": {
   "codemirror_mode": {
    "name": "ipython",
    "version": 3
   },
   "file_extension": ".py",
   "mimetype": "text/x-python",
   "name": "python",
   "nbconvert_exporter": "python",
   "pygments_lexer": "ipython3",
   "version": "3.7.6"
  }
 },
 "nbformat": 4,
 "nbformat_minor": 4
}
