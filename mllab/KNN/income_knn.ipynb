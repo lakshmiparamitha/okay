{
 "cells": [
  {
   "cell_type": "code",
   "execution_count": 20,
   "metadata": {
    "scrolled": true
   },
   "outputs": [
    {
     "name": "stdout",
     "output_type": "stream",
     "text": [
      "Shape of X_train: (8, 3)\n",
      "Shape of X_test: (2, 3)\n",
      "Shape of y_train: (8,)\n",
      "Shape of y_test: (2,)\n",
      "\n",
      "New record before preprocessing:\n",
      "   Age  Marital    Income\n",
      "0   66  Married  36120.34\n",
      "\n",
      "New record after preprocessing:\n",
      "   Age  Marital    Income\n",
      "0   66        0  36120.34\n",
      "\n",
      "Predicted risk for the new record (#10) using k = 7 : Bad loss\n"
     ]
    }
   ],
   "source": [
    "import pandas as pd\n",
    "from sklearn.model_selection import train_test_split\n",
    "from sklearn.preprocessing import LabelEncoder, StandardScaler\n",
    "from sklearn.neighbors import KNeighborsClassifier\n",
    "import numpy as np\n",
    "\n",
    "# Load the dataset\n",
    "data = pd.read_csv(\"Data.csv\")\n",
    "\n",
    "# Preprocess the data\n",
    "# Encode categorical variables\n",
    "label_encoder = LabelEncoder()\n",
    "data['Marital'] = label_encoder.fit_transform(data['Marital'])\n",
    "\n",
    "# Remove '$' and ',' from 'Income' column and convert it to float\n",
    "data['Income'] = data['Income'].replace({'\\$': '', ',': ''}, regex=True).astype(float)\n",
    "\n",
    "# Map target labels to integers\n",
    "label_mapping = {'Bad loss': 0, 'Good risk': 1}\n",
    "data['Risk'] = data['Risk'].map(label_mapping)\n",
    "\n",
    "# Split the dataset into features and labels\n",
    "X = data[['Age', 'Marital', 'Income']]\n",
    "y = data['Risk']\n",
    "\n",
    "# Standardize the features\n",
    "scaler = StandardScaler()\n",
    "X_scaled = scaler.fit_transform(X)\n",
    "\n",
    "# Split the dataset into training and testing sets\n",
    "X_train, X_test, y_train, y_test = train_test_split(X_scaled, y, test_size=0.2, random_state=42)\n",
    "\n",
    "# Check the shapes of X_train, X_test, y_train, and y_test\n",
    "print(\"Shape of X_train:\", X_train.shape)\n",
    "print(\"Shape of X_test:\", X_test.shape)\n",
    "print(\"Shape of y_train:\", y_train.shape)\n",
    "print(\"Shape of y_test:\", y_test.shape)\n",
    "\n",
    "# Initialize the k-NN classifier with k=9\n",
    "k = 7\n",
    "knn_classifier = KNeighborsClassifier(n_neighbors=k)\n",
    "\n",
    "# Replace NaN value in y_train with the mode\n",
    "y_train.fillna(y_train.mode()[0], inplace=True)\n",
    "\n",
    "# Train the classifier on the training data\n",
    "knn_classifier.fit(X_train, y_train)\n",
    "\n",
    "# New record to classify (#10)\n",
    "new_record = [[66, 'Married', 36120.34]]\n",
    "\n",
    "# Convert the new record to a DataFrame\n",
    "new_record_df = pd.DataFrame(new_record, columns=['Age', 'Marital', 'Income'])\n",
    "\n",
    "# Print the new record DataFrame\n",
    "print(\"\\nNew record before preprocessing:\")\n",
    "print(new_record_df)\n",
    "\n",
    "# Preprocess the new record\n",
    "new_record_df['Marital'] = label_encoder.transform(new_record_df['Marital'])\n",
    "new_record_df['Income'] = new_record_df['Income'].astype(float)\n",
    "new_record_scaled = scaler.transform(new_record_df)\n",
    "\n",
    "# Print the new record after preprocessing\n",
    "print(\"\\nNew record after preprocessing:\")\n",
    "print(new_record_df)\n",
    "\n",
    "# Perform prediction on the new record\n",
    "prediction = knn_classifier.predict(new_record_scaled)\n",
    "\n",
    "# Map predicted label back to original label\n",
    "predicted_label = 'Good risk' if prediction[0] == 1 else 'Bad loss'\n",
    "print(\"\\nPredicted risk for the new record (#10) using k =\", k, \":\", predicted_label)\n"
   ]
  },
  {
   "cell_type": "code",
   "execution_count": 23,
   "metadata": {},
   "outputs": [
    {
     "name": "stdout",
     "output_type": "stream",
     "text": [
      "Min-max standardized values for 'Age':\n",
      "0    0.000000\n",
      "1    0.250000\n",
      "2    0.136364\n",
      "3    0.659091\n",
      "4    0.068182\n",
      "5    0.386364\n",
      "6    0.727273\n",
      "7    0.750000\n",
      "8    0.636364\n",
      "9    1.000000\n",
      "Name: Age_MinMax, dtype: float64\n",
      "\n",
      "Min-max standardized values for 'Income':\n",
      "0    0.880246\n",
      "1    0.011912\n",
      "2    0.193700\n",
      "3    0.000000\n",
      "4    0.924691\n",
      "5    0.399532\n",
      "6    0.190900\n",
      "7    1.000000\n",
      "8    0.902757\n",
      "9    0.483542\n",
      "Name: Income_MinMax, dtype: float64\n"
     ]
    }
   ],
   "source": [
    "# Load the dataset\n",
    "data = pd.read_csv(\"Data.csv\")\n",
    "\n",
    "# Remove '$' and ',' from 'Income' column and convert it to float\n",
    "data['Income'] = data['Income'].replace({'\\$': '', ',': ''}, regex=True).astype(float)\n",
    "\n",
    "# Calculate min-max standardized values for 'Age' and 'Income' attributes\n",
    "min_age = data['Age'].min()\n",
    "max_age = data['Age'].max()\n",
    "min_income = data['Income'].min()\n",
    "max_income = data['Income'].max()\n",
    "\n",
    "# Min-max standardization formula\n",
    "data['Age_MinMax'] = (data['Age'] - min_age) / (max_age - min_age)\n",
    "data['Income_MinMax'] = (data['Income'] - min_income) / (max_income - min_income)\n",
    "\n",
    "# Display the min-max standardized values\n",
    "print(\"Min-max standardized values for 'Age':\")\n",
    "print(data['Age_MinMax'])\n",
    "print(\"\\nMin-max standardized values for 'Income':\")\n",
    "print(data['Income_MinMax'])\n"
   ]
  },
  {
   "cell_type": "code",
   "execution_count": 24,
   "metadata": {},
   "outputs": [
    {
     "name": "stdout",
     "output_type": "stream",
     "text": [
      "Distance from record #1: 2.946153517276728\n",
      "Distance from record #2: 3.9680293425497544\n",
      "Distance from record #3: 1.572961201482532\n",
      "Distance from record #4: 3.005056529897639\n",
      "Distance from record #5: 0.0\n",
      "Distance from record #6: 3.8388413827504952\n",
      "Distance from record #7: 2.00278127458216\n",
      "Distance from record #8: 2.5135687770739628\n"
     ]
    }
   ],
   "source": [
    "# New record (#10) standardized values\n",
    "new_record_std = new_record_scaled[0]\n",
    "\n",
    "# Calculate Euclidean distance for each record in X_train\n",
    "distances = []\n",
    "for record in X_train:\n",
    "    distance = np.sqrt(np.sum((record - new_record_std) ** 2))\n",
    "    distances.append(distance)\n",
    "\n",
    "# Display distances\n",
    "for i, distance in enumerate(distances, start=1):\n",
    "    print(f\"Distance from record #{i}: {distance}\")"
   ]
  },
  {
   "cell_type": "code",
   "execution_count": 25,
   "metadata": {},
   "outputs": [
    {
     "name": "stdout",
     "output_type": "stream",
     "text": [
      "Predicted risk for the new record (#10) using unweighted voting: Bad loss\n"
     ]
    }
   ],
   "source": [
    "from collections import Counter\n",
    "\n",
    "# Find indices of the k-nearest neighbors\n",
    "k = 9\n",
    "nearest_indices = np.argsort(distances)[:k]\n",
    "\n",
    "# Get labels of the k-nearest neighbors\n",
    "nearest_labels = y_train.iloc[nearest_indices]\n",
    "\n",
    "# Perform unweighted voting to classify the risk factor\n",
    "predicted_label = Counter(nearest_labels).most_common(1)[0][0]\n",
    "\n",
    "# Map predicted label back to original label\n",
    "predicted_risk = 'Good risk' if predicted_label == 1 else 'Bad loss'\n",
    "\n",
    "print(\"Predicted risk for the new record (#10) using unweighted voting:\", predicted_risk)\n"
   ]
  },
  {
   "cell_type": "code",
   "execution_count": null,
   "metadata": {},
   "outputs": [],
   "source": []
  }
 ],
 "metadata": {
  "kernelspec": {
   "display_name": "Python 3",
   "language": "python",
   "name": "python3"
  },
  "language_info": {
   "codemirror_mode": {
    "name": "ipython",
    "version": 3
   },
   "file_extension": ".py",
   "mimetype": "text/x-python",
   "name": "python",
   "nbconvert_exporter": "python",
   "pygments_lexer": "ipython3",
   "version": "3.7.6"
  }
 },
 "nbformat": 4,
 "nbformat_minor": 4
}
