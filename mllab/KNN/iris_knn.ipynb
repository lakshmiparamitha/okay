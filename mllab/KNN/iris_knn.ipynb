{
 "cells": [
  {
   "cell_type": "code",
   "execution_count": 3,
   "metadata": {},
   "outputs": [],
   "source": [
    "import pandas as pd\n",
    "import numpy as np\n",
    "from collections import Counter"
   ]
  },
  {
   "cell_type": "code",
   "execution_count": 4,
   "metadata": {},
   "outputs": [],
   "source": [
    "data = pd.read_csv(\"data4_19.csv\")"
   ]
  },
  {
   "cell_type": "code",
   "execution_count": 5,
   "metadata": {},
   "outputs": [],
   "source": [
    "def euclidean_distance(x1, x2):\n",
    "    return np.sqrt(np.sum((x1 - x2) ** 2))\n",
    "\n",
    "def manhattan_distance(x1, x2):\n",
    "    return np.sum(np.abs(x1 - x2))"
   ]
  },
  {
   "cell_type": "code",
   "execution_count": 6,
   "metadata": {},
   "outputs": [],
   "source": [
    "def knn_predict(train_data, test_instance, k, distance_measure):\n",
    "    distances = []\n",
    "    for index, row in train_data.iterrows():\n",
    "        features = row[:-1]  \n",
    "        label = row[-1]     \n",
    "        distance = distance_measure(features, test_instance)\n",
    "        distances.append((distance, label))\n",
    "    \n",
    "    distances.sort(key=lambda x: x[0])\n",
    "    neighbors = distances[:k]\n",
    "    \n",
    "    class_votes = Counter([neighbor[1] for neighbor in neighbors])\n",
    "    \n",
    "    return class_votes.most_common(1)[0][0]"
   ]
  },
  {
   "cell_type": "code",
   "execution_count": 7,
   "metadata": {},
   "outputs": [
    {
     "name": "stdout",
     "output_type": "stream",
     "text": [
      "Distance Measure: Euclidean Distance\n",
      "K = 1, Predicted Species: Iris-setosa\n",
      "K = 2, Predicted Species: Iris-setosa\n",
      "K = 3, Predicted Species: Iris-setosa\n",
      "K = 4, Predicted Species: Iris-setosa\n",
      "K = 5, Predicted Species: Iris-setosa\n",
      "\n",
      "Distance Measure: Manhattan Distance\n",
      "K = 1, Predicted Species: Iris-setosa\n",
      "K = 2, Predicted Species: Iris-setosa\n",
      "K = 3, Predicted Species: Iris-setosa\n",
      "K = 4, Predicted Species: Iris-setosa\n",
      "K = 5, Predicted Species: Iris-setosa\n",
      "\n"
     ]
    }
   ],
   "source": [
    "attributes = [5.2, 3.1, 1.4, 0.2]\n",
    "distance_measures = {\n",
    "    \"Euclidean Distance\": euclidean_distance,\n",
    "    \"Manhattan Distance\": manhattan_distance\n",
    "}\n",
    "\n",
    "for distance_name, distance_func in distance_measures.items():\n",
    "    print(f\"Distance Measure: {distance_name}\")\n",
    "    for k in range(1, 6):  # Trying different values of k\n",
    "        prediction = knn_predict(data, attributes, k, distance_func)\n",
    "        print(f\"K = {k}, Predicted Species: {prediction}\")\n",
    "    print()"
   ]
  },
  {
   "cell_type": "code",
   "execution_count": null,
   "metadata": {},
   "outputs": [],
   "source": []
  }
 ],
 "metadata": {
  "kernelspec": {
   "display_name": "Python 3",
   "language": "python",
   "name": "python3"
  },
  "language_info": {
   "codemirror_mode": {
    "name": "ipython",
    "version": 3
   },
   "file_extension": ".py",
   "mimetype": "text/x-python",
   "name": "python",
   "nbconvert_exporter": "python",
   "pygments_lexer": "ipython3",
   "version": "3.7.6"
  }
 },
 "nbformat": 4,
 "nbformat_minor": 4
}
