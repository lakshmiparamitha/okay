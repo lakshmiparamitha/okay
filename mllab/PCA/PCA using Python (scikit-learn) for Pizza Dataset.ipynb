{
 "cells": [
  {
   "cell_type": "markdown",
   "metadata": {},
   "source": [
    "#### What is PCA and why use it?\n",
    "PCA or Principal Component Analysis is a dimentionality reduction technique, which aims at identifying patterns in data; PCA aims to detect the correlation between variables. If a strong correlation between variables exists, the attempt to reduce the dimensionality only makes sense.\n",
    "In a nutshell, this is what PCA is all about: Finding the directions of maximum variance in high-dimensional data and project it onto a smaller dimensional subspace while retaining most of the information.\n",
    "\n",
    "#### Steps in PCA without scikit-learn:\n",
    "- Standardize the data.\n",
    "- Obtain the Eigenvectors and Eigenvalues from the covariance matrix or correlation matrix, or perform Singular Vector Decomposition.\n",
    "- Sort eigenvalues in descending order and choose the k eigenvectors that correspond to the k largest eigenvalues where k is the number of dimensions of the new feature subspace (k≤d)/.\n",
    "- Construct the projection matrix W from the selected k eigenvectors.\n",
    "- Transform the original dataset X via W to obtain a k-dimensional feature subspace Y.\n",
    "\n",
    "\n",
    "#### Things to remember:\n",
    "- PCA projects the entire dataset onto a different feature (sub)space, maximizing the variance of the data\n",
    "- In case of a Classification problem, PCA \"ignores\" class labels"
   ]
  },
  {
   "cell_type": "markdown",
   "metadata": {},
   "source": [
    "\n",
    "### Data Description - Nutrient Analysis of Pizzas \n",
    "(source: https://data.world/sdhilip/pizza-datasets)\n",
    "\n",
    "The variables in the data set are:\n",
    "\n",
    "1. brand -- Pizza brand (class label)\n",
    "2. id -- Sample analysed\n",
    "3. mois -- Amount of water per 100 grams in the sample\n",
    "4. prot -- Amount of protein per 100 grams in the sample\n",
    "5. fat -- Amount of fat per 100 grams in the sample\n",
    "6. ash -- Amount of ash per 100 grams in the sample\n",
    "7. sodium -- Amount of sodium per 100 grams in the sample\n",
    "8. carb -- Amount of carbohydrates per 100 grams in the sample\n",
    "9. cal -- Amount of calories per 100 grams in the sample\n",
    "\n"
   ]
  },
  {
   "cell_type": "markdown",
   "metadata": {},
   "source": [
    "### Import packages"
   ]
  },
  {
   "cell_type": "code",
   "execution_count": 20,
   "metadata": {},
   "outputs": [],
   "source": [
    "import pandas as pd \n",
    "import numpy as np\n",
    "import matplotlib.pyplot as plt\n",
    "from sklearn.decomposition import PCA\n",
    "from sklearn.preprocessing import StandardScaler\n",
    "%matplotlib inline"
   ]
  },
  {
   "cell_type": "code",
   "execution_count": 24,
   "metadata": {},
   "outputs": [
    {
     "data": {
      "text/html": [
       "<div>\n",
       "<style scoped>\n",
       "    .dataframe tbody tr th:only-of-type {\n",
       "        vertical-align: middle;\n",
       "    }\n",
       "\n",
       "    .dataframe tbody tr th {\n",
       "        vertical-align: top;\n",
       "    }\n",
       "\n",
       "    .dataframe thead th {\n",
       "        text-align: right;\n",
       "    }\n",
       "</style>\n",
       "<table border=\"1\" class=\"dataframe\">\n",
       "  <thead>\n",
       "    <tr style=\"text-align: right;\">\n",
       "      <th></th>\n",
       "      <th>brand</th>\n",
       "      <th>id</th>\n",
       "      <th>mois</th>\n",
       "      <th>prot</th>\n",
       "      <th>fat</th>\n",
       "      <th>ash</th>\n",
       "      <th>sodium</th>\n",
       "      <th>carb</th>\n",
       "      <th>cal</th>\n",
       "    </tr>\n",
       "  </thead>\n",
       "  <tbody>\n",
       "    <tr>\n",
       "      <th>0</th>\n",
       "      <td>A</td>\n",
       "      <td>14069</td>\n",
       "      <td>27.82</td>\n",
       "      <td>21.43</td>\n",
       "      <td>44.87</td>\n",
       "      <td>5.11</td>\n",
       "      <td>1.77</td>\n",
       "      <td>0.77</td>\n",
       "      <td>4.93</td>\n",
       "    </tr>\n",
       "    <tr>\n",
       "      <th>1</th>\n",
       "      <td>A</td>\n",
       "      <td>14053</td>\n",
       "      <td>28.49</td>\n",
       "      <td>21.26</td>\n",
       "      <td>43.89</td>\n",
       "      <td>5.34</td>\n",
       "      <td>1.79</td>\n",
       "      <td>1.02</td>\n",
       "      <td>4.84</td>\n",
       "    </tr>\n",
       "    <tr>\n",
       "      <th>2</th>\n",
       "      <td>A</td>\n",
       "      <td>14025</td>\n",
       "      <td>28.35</td>\n",
       "      <td>19.99</td>\n",
       "      <td>45.78</td>\n",
       "      <td>5.08</td>\n",
       "      <td>1.63</td>\n",
       "      <td>0.80</td>\n",
       "      <td>4.95</td>\n",
       "    </tr>\n",
       "    <tr>\n",
       "      <th>3</th>\n",
       "      <td>A</td>\n",
       "      <td>14016</td>\n",
       "      <td>30.55</td>\n",
       "      <td>20.15</td>\n",
       "      <td>43.13</td>\n",
       "      <td>4.79</td>\n",
       "      <td>1.61</td>\n",
       "      <td>1.38</td>\n",
       "      <td>4.74</td>\n",
       "    </tr>\n",
       "    <tr>\n",
       "      <th>4</th>\n",
       "      <td>A</td>\n",
       "      <td>14005</td>\n",
       "      <td>30.49</td>\n",
       "      <td>21.28</td>\n",
       "      <td>41.65</td>\n",
       "      <td>4.82</td>\n",
       "      <td>1.64</td>\n",
       "      <td>1.76</td>\n",
       "      <td>4.67</td>\n",
       "    </tr>\n",
       "  </tbody>\n",
       "</table>\n",
       "</div>"
      ],
      "text/plain": [
       "  brand     id   mois   prot    fat   ash  sodium  carb   cal\n",
       "0     A  14069  27.82  21.43  44.87  5.11    1.77  0.77  4.93\n",
       "1     A  14053  28.49  21.26  43.89  5.34    1.79  1.02  4.84\n",
       "2     A  14025  28.35  19.99  45.78  5.08    1.63  0.80  4.95\n",
       "3     A  14016  30.55  20.15  43.13  4.79    1.61  1.38  4.74\n",
       "4     A  14005  30.49  21.28  41.65  4.82    1.64  1.76  4.67"
      ]
     },
     "execution_count": 24,
     "metadata": {},
     "output_type": "execute_result"
    }
   ],
   "source": [
    "df = pd.read_csv('Pizza.csv')\n",
    "df.head()"
   ]
  },
  {
   "cell_type": "code",
   "execution_count": 26,
   "metadata": {},
   "outputs": [],
   "source": [
    "# split data table into data X and class labels y\n",
    "\n",
    "X = df.iloc[:,2:9].values\n",
    "y = df.iloc[:,0].values"
   ]
  },
  {
   "cell_type": "code",
   "execution_count": 27,
   "metadata": {},
   "outputs": [],
   "source": [
    "X_std = StandardScaler().fit_transform(X)"
   ]
  },
  {
   "cell_type": "markdown",
   "metadata": {},
   "source": [
    "### PCA Projections to 2D"
   ]
  },
  {
   "cell_type": "code",
   "execution_count": 31,
   "metadata": {
    "scrolled": true
   },
   "outputs": [
    {
     "data": {
      "text/html": [
       "<div>\n",
       "<style scoped>\n",
       "    .dataframe tbody tr th:only-of-type {\n",
       "        vertical-align: middle;\n",
       "    }\n",
       "\n",
       "    .dataframe tbody tr th {\n",
       "        vertical-align: top;\n",
       "    }\n",
       "\n",
       "    .dataframe thead th {\n",
       "        text-align: right;\n",
       "    }\n",
       "</style>\n",
       "<table border=\"1\" class=\"dataframe\">\n",
       "  <thead>\n",
       "    <tr style=\"text-align: right;\">\n",
       "      <th></th>\n",
       "      <th>component1</th>\n",
       "      <th>component2</th>\n",
       "    </tr>\n",
       "  </thead>\n",
       "  <tbody>\n",
       "    <tr>\n",
       "      <th>0</th>\n",
       "      <td>5.010343</td>\n",
       "      <td>2.679215</td>\n",
       "    </tr>\n",
       "    <tr>\n",
       "      <th>1</th>\n",
       "      <td>5.023755</td>\n",
       "      <td>2.529295</td>\n",
       "    </tr>\n",
       "    <tr>\n",
       "      <th>2</th>\n",
       "      <td>4.805439</td>\n",
       "      <td>2.673700</td>\n",
       "    </tr>\n",
       "    <tr>\n",
       "      <th>3</th>\n",
       "      <td>4.469543</td>\n",
       "      <td>2.285029</td>\n",
       "    </tr>\n",
       "    <tr>\n",
       "      <th>4</th>\n",
       "      <td>4.471893</td>\n",
       "      <td>2.159152</td>\n",
       "    </tr>\n",
       "  </tbody>\n",
       "</table>\n",
       "</div>"
      ],
      "text/plain": [
       "   component1  component2\n",
       "0    5.010343    2.679215\n",
       "1    5.023755    2.529295\n",
       "2    4.805439    2.673700\n",
       "3    4.469543    2.285029\n",
       "4    4.471893    2.159152"
      ]
     },
     "execution_count": 31,
     "metadata": {},
     "output_type": "execute_result"
    }
   ],
   "source": [
    "pca = PCA(n_components=2)\n",
    "principalComponents = pca.fit_transform(X_std)\n",
    "principalDf = pd.DataFrame(data = principalComponents\n",
    "             , columns = ['component1', 'component2'])\n",
    "\n",
    "\n",
    "principalDf.head()"
   ]
  },
  {
   "cell_type": "code",
   "execution_count": 34,
   "metadata": {},
   "outputs": [],
   "source": [
    "label_dict = {1: 'A',\n",
    "              2: 'B',\n",
    "              3: 'C', 4:'D',5:'E',6:'F',7:'G',8:'H',9:'I',10:'J'}\n",
    "\n",
    "feature_dict = {0: 'mois',\n",
    "                1: 'prot',\n",
    "                2: 'fat',\n",
    "                3: 'ash',\n",
    "               4:'sodium',\n",
    "               5:'carb',\n",
    "               6:'cal'}"
   ]
  },
  {
   "cell_type": "code",
   "execution_count": 35,
   "metadata": {},
   "outputs": [],
   "source": [
    "finalDf = pd.concat([principalDf, df[['brand']]], axis = 1)"
   ]
  },
  {
   "cell_type": "code",
   "execution_count": 37,
   "metadata": {},
   "outputs": [
    {
     "data": {
      "image/png": "[encoded data removed]",
      "text/plain": [
       "<Figure size 576x576 with 1 Axes>"
      ]
     },
     "metadata": {
      "needs_background": "light"
     },
     "output_type": "display_data"
    }
   ],
   "source": [
    "fig = plt.figure(figsize = (8,8))\n",
    "ax = fig.add_subplot(1,1,1) \n",
    "ax.set_xlabel('component1', fontsize = 15)\n",
    "ax.set_ylabel('component2', fontsize = 15)\n",
    "ax.set_title('2 component PCA', fontsize = 20)\n",
    "targets = list(label_dict.values())\n",
    "\n",
    "for target in targets:\n",
    "    indicesToKeep = finalDf['brand'] == target\n",
    "    ax.scatter(finalDf.loc[indicesToKeep, 'component1']\n",
    "               , finalDf.loc[indicesToKeep, 'component2']\n",
    "               , s = 50)\n",
    "ax.legend(targets)\n",
    "ax.grid()"
   ]
  },
  {
   "cell_type": "code",
   "execution_count": 38,
   "metadata": {},
   "outputs": [
    {
     "data": {
      "text/plain": [
       "array([0.59596884, 0.3272082 ])"
      ]
     },
     "execution_count": 38,
     "metadata": {},
     "output_type": "execute_result"
    }
   ],
   "source": [
    "pca.explained_variance_ratio_"
   ]
  },
  {
   "cell_type": "code",
   "execution_count": 39,
   "metadata": {},
   "outputs": [
    {
     "name": "stdout",
     "output_type": "stream",
     "text": [
      "[[0.06470937 0.3787609  0.44666592 0.47188953 0.43570289 0.42491371\n",
      "  0.2444873 ]\n",
      " [0.62827587 0.26970665 0.23437908 0.11099042 0.20166165 0.32031208\n",
      "  0.56745756]]\n"
     ]
    }
   ],
   "source": [
    "print(abs( pca.components_ ))\n"
   ]
  },
  {
   "cell_type": "code",
   "execution_count": 40,
   "metadata": {},
   "outputs": [
    {
     "name": "stdout",
     "output_type": "stream",
     "text": [
      "{'PC0': 'D', 'PC1': 'A'}\n"
     ]
    }
   ],
   "source": [
    "\n",
    "# number of components\n",
    "n_pcs= pca.components_.shape[0]\n",
    "\n",
    "# get the index of the most important feature on EACH component\n",
    "most_important = [np.abs(pca.components_[i]).argmax() for i in range(n_pcs)]\n",
    "\n",
    "initial_feature_names = list(label_dict.values())\n",
    "# get the names\n",
    "most_important_names = [initial_feature_names[most_important[i]] for i in range(n_pcs)]\n",
    "\n",
    "# LIST COMPREHENSION HERE AGAIN\n",
    "dic = {'PC{}'.format(i): most_important_names[i] for i in range(n_pcs)}\n",
    "\n",
    "print(dic)"
   ]
  },
  {
   "cell_type": "markdown",
   "metadata": {},
   "source": [
    "Sources:\n",
    "- https://stackoverflow.com/questions/50796024/feature-variable-importance-after-a-pca-analysis\n",
    " \n",
    "- https://github.com/mGalarnyk/Python_Tutorials/blob/master/Sklearn/PCA/PCA_Data_Visualization_Iris_Dataset_Blog.ipynb"
   ]
  }
 ],
 "metadata": {
  "kernelspec": {
   "display_name": "Python 3",
   "language": "python",
   "name": "python3"
  },
  "language_info": {
   "codemirror_mode": {
    "name": "ipython",
    "version": 3
   },
   "file_extension": ".py",
   "mimetype": "text/x-python",
   "name": "python",
   "nbconvert_exporter": "python",
   "pygments_lexer": "ipython3",
   "version": "3.7.6"
  }
 },
 "nbformat": 4,
 "nbformat_minor": 2
}
