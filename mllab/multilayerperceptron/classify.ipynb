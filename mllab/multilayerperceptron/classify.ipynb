{
 "cells": [
  {
   "cell_type": "code",
   "execution_count": 1,
   "metadata": {},
   "outputs": [],
   "source": [
    "import numpy as np"
   ]
  },
  {
   "cell_type": "code",
   "execution_count": 2,
   "metadata": {},
   "outputs": [],
   "source": [
    "def sigmoid(x):\n",
    "    return 1.0/(1.0 + np.exp(-x))\n",
    "\n",
    "def sigmoid_der(x):\n",
    "    return x*(1.0 - x)\n",
    "\n",
    "class NN:\n",
    "    def __init__(self, inputs):\n",
    "        self.inputs = inputs\n",
    "        self.l=len(self.inputs)\n",
    "        self.li=len(self.inputs[0])\n",
    "\n",
    "        self.wi=np.random.random((self.li, self.l))\n",
    "        self.wh=np.random.random((self.l, 1))\n",
    "\n",
    "    def think(self, inp):\n",
    "        s1=sigmoid(np.dot(inp, self.wi))\n",
    "        s2=sigmoid(np.dot(s1, self.wh))\n",
    "        return s2\n",
    "\n",
    "    def train(self, inputs,outputs, it):\n",
    "        for i in range(it):\n",
    "            l0=inputs\n",
    "            l1=sigmoid(np.dot(l0, self.wi))\n",
    "            l2=sigmoid(np.dot(l1, self.wh))\n",
    "\n",
    "            l2_err=outputs - l2\n",
    "            l2_delta = np.multiply(l2_err, sigmoid_der(l2))\n",
    "\n",
    "            l1_err=np.dot(l2_delta, self.wh.T)\n",
    "            l1_delta=np.multiply(l1_err, sigmoid_der(l1))\n",
    "\n",
    "            self.wh+=np.dot(l1.T, l2_delta)\n",
    "            self.wi+=np.dot(l0.T, l1_delta)"
   ]
  },
  {
   "cell_type": "code",
   "execution_count": 3,
   "metadata": {},
   "outputs": [
    {
     "name": "stdout",
     "output_type": "stream",
     "text": [
      "Before Iterations : \n",
      " [[0.67751666]\n",
      " [0.72343086]\n",
      " [0.725075  ]\n",
      " [0.75970492]] \n",
      "\n",
      "After Iterations : \n",
      " [[0.02757936]\n",
      " [0.98080364]\n",
      " [0.98264836]\n",
      " [0.00961323]]\n"
     ]
    }
   ],
   "source": [
    "inputs=np.array([[0,0], [0,1], [1,0], [1,1] ])\n",
    "outputs=np.array([ [0],[1],[1],[0] ])\n",
    "\n",
    "n=NN(inputs)\n",
    "print(\"Before Iterations : \\n\", n.think(inputs), \"\\n\")\n",
    "n.train(inputs, outputs, 10000)\n",
    "print(\"After Iterations : \\n\", n.think(inputs))"
   ]
  },
  {
   "cell_type": "code",
   "execution_count": null,
   "metadata": {},
   "outputs": [],
   "source": []
  }
 ],
 "metadata": {
  "kernelspec": {
   "display_name": "Python 3",
   "language": "python",
   "name": "python3"
  },
  "language_info": {
   "codemirror_mode": {
    "name": "ipython",
    "version": 3
   },
   "file_extension": ".py",
   "mimetype": "text/x-python",
   "name": "python",
   "nbconvert_exporter": "python",
   "pygments_lexer": "ipython3",
   "version": "3.7.6"
  }
 },
 "nbformat": 4,
 "nbformat_minor": 4
}
